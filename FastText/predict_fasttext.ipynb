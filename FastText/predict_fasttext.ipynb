import pandas as pd
import fasttext as ft

# here you load the csv into pandas dataframe
df=pd.read_csv('../input_data/vaw_dataset_coherence.csv')

# here you load your fasttext module
model=ft.load_model('../model/icon_wikipedia_.bin')

# line by line, you make the predictions and store them in a list
predictions=[]
for line in df['subject']:
    pred_label=model.predict(line, k=9, threshold=0.1)  
    predictions.append(pred_label)

# you add the list to the dataframe, then save the datframe to new csv
df[['prediction','value']]=predictions
print(df)
df.to_csv('csv_file_w_pred.csv',sep=',',index=False)